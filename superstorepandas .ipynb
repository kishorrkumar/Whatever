{
  "cells": [
    {
      "cell_type": "markdown",
      "metadata": {
        "id": "view-in-github",
        "colab_type": "text"
      },
      "source": [
        "<a href=\"https://colab.research.google.com/github/kishorrkumar/Whatever/blob/main/superstorepandas%20.ipynb\" target=\"_parent\"><img src=\"https://colab.research.google.com/assets/colab-badge.svg\" alt=\"Open In Colab\"/></a>"
      ]
    },
    {
      "cell_type": "code",
      "source": [
        "import pandas as pd\n"
      ],
      "metadata": {
        "id": "_GPzN9eUeLxy"
      },
      "execution_count": 1,
      "outputs": []
    },
    {
      "cell_type": "code",
      "source": [],
      "metadata": {
        "id": "Aaay8pTSeT2t"
      },
      "execution_count": null,
      "outputs": []
    },
    {
      "cell_type": "code",
      "source": [
        "from re import T\n",
        "import pandas as pd\n",
        "df =pd.read_excel('/Superstore Dataset.xlsx',)\n",
        "print(df.head(10))"
      ],
      "metadata": {
        "id": "DvGalJfompGg",
        "outputId": "fee511cc-f626-49ee-bf55-13a7445c4add",
        "colab": {
          "base_uri": "https://localhost:8080/"
        }
      },
      "execution_count": 30,
      "outputs": [
        {
          "output_type": "stream",
          "name": "stdout",
          "text": [
            "   Row ID+O6G3A1:R6        Order ID Order Date  Ship Date       Ship Mode  \\\n",
            "0                 1  CA-2019-152156 2019-11-08 2019-11-11    Second Class   \n",
            "1                 2  CA-2019-152156 2019-11-08 2019-11-11    Second Class   \n",
            "2                 3  CA-2019-138688 2019-06-12 2019-06-16    Second Class   \n",
            "3                13  CA-2020-114412 2020-04-15 2020-04-20  Standard Class   \n",
            "4                14  CA-2019-161389 2019-12-05 2019-12-10  Standard Class   \n",
            "5                22  CA-2019-137330 2019-12-09 2019-12-13  Standard Class   \n",
            "6                23  CA-2019-137330 2019-12-09 2019-12-13  Standard Class   \n",
            "7                24  US-2020-156909 2020-07-16 2020-07-18    Second Class   \n",
            "8                26  CA-2019-121755 2019-01-16 2019-01-20    Second Class   \n",
            "9                27  CA-2019-121755 2019-01-16 2019-01-20    Second Class   \n",
            "\n",
            "  Customer ID    Customer Name    Segment        Country          City  \\\n",
            "0    CG-12520      Claire Gute   Consumer  United States     Henderson   \n",
            "1    CG-12520      Claire Gute   Consumer  United States     Henderson   \n",
            "2    DV-13045  Darrin Van Huff  Corporate  United States   Los Angeles   \n",
            "3    AA-10480     Andrew Allen   Consumer  United States       Concord   \n",
            "4    IM-15070     Irene Maddox   Consumer  United States       Seattle   \n",
            "5    KB-16585        Ken Black  Corporate  United States       Fremont   \n",
            "6    KB-16585        Ken Black  Corporate  United States       Fremont   \n",
            "7    SF-20065  Sandra Flanagan   Consumer  United States  Philadelphia   \n",
            "8    EH-13945    Eric Hoffmann   Consumer  United States   Los Angeles   \n",
            "9    EH-13945    Eric Hoffmann   Consumer  United States   Los Angeles   \n",
            "\n",
            "            State   Region       Product ID         Category Sub-Category  \\\n",
            "0        Kentucky    South  FUR-BO-10001798        Furniture    Bookcases   \n",
            "1        Kentucky    South  FUR-CH-10000454        Furniture       Chairs   \n",
            "2      California     West  OFF-LA-10000240  Office Supplies       Labels   \n",
            "3  North Carolina    South  OFF-PA-10002365  Office Supplies        Paper   \n",
            "4      Washington     West  OFF-BI-10003656  Office Supplies      Binders   \n",
            "5        Nebraska  Central  OFF-AR-10000246  Office Supplies          Art   \n",
            "6        Nebraska  Central  OFF-AP-10001492  Office Supplies   Appliances   \n",
            "7    Pennsylvania     East  FUR-CH-10002774        Furniture       Chairs   \n",
            "8      California     West  OFF-BI-10001634  Office Supplies      Binders   \n",
            "9      California     West  TEC-AC-10003027       Technology  Accessories   \n",
            "\n",
            "                                        Product Name    Sales  Quantity  \\\n",
            "0                  Bush Somerset Collection Bookcase  261.960         2   \n",
            "1  Hon Deluxe Fabric Upholstered Stacking Chairs,...  731.940         3   \n",
            "2  Self-Adhesive Address Labels for Typewriters b...   14.620         2   \n",
            "3                                         Xerox 1967   15.552         3   \n",
            "4        Fellowes PB200 Plastic Comb Binding Machine  407.976         3   \n",
            "5                                         Newell 318   19.460         7   \n",
            "6        Acco Six-Outlet Power Strip, 4' Cord Length   60.340         7   \n",
            "7                 Global Deluxe Stacking Chair, Gray   71.372         2   \n",
            "8                    Wilson Jones Active Use Binders   11.648         2   \n",
            "9   Imation 8GB Mini TravelDrive USB 2.0 Flash Drive   90.570         3   \n",
            "\n",
            "     Profit  \n",
            "0   41.9136  \n",
            "1  219.5820  \n",
            "2    6.8714  \n",
            "3    5.4432  \n",
            "4  132.5922  \n",
            "5    5.0596  \n",
            "6   15.6884  \n",
            "7   -1.0196  \n",
            "8    4.2224  \n",
            "9   11.7741  \n"
          ]
        }
      ]
    },
    {
      "cell_type": "code",
      "source": [
        "#print columns\n",
        "#print(df.columns)\n",
        "\n",
        "#read each column\n",
        "\n",
        "#print(df[['Customer Name','Segment','Country']][0:10])\n",
        "#print(df['Customer Name'].head(10))\n",
        "#print(df['Customer Name'].tail(10))\n",
        "\n",
        "#read each row\n",
        "\n",
        "#print(df.head(3))\n",
        "#print(df.iloc[0:3])\n",
        "#for index,row in df.iterrows():\n",
        " #   print(index, row['Customer Name'])\n",
        "#df.loc[df['City'] == 'Philadelphia']#for specific data type = text,anything\n",
        "\n",
        "#read a specific location(r,c)\n",
        "print(df.iloc[2,3])\n",
        "\n"
      ],
      "metadata": {
        "id": "ZtPXnE2Hn9Il",
        "outputId": "e2d6c146-6a10-4ffe-921c-c337b478be48",
        "colab": {
          "base_uri": "https://localhost:8080/"
        }
      },
      "execution_count": 56,
      "outputs": [
        {
          "output_type": "stream",
          "name": "stdout",
          "text": [
            "2019-06-16 00:00:00\n"
          ]
        }
      ]
    },
    {
      "cell_type": "code",
      "source": [
        "3"
      ],
      "metadata": {
        "id": "ZVfKM7EDvmCe"
      },
      "execution_count": null,
      "outputs": []
    }
  ],
  "metadata": {
    "colab": {
      "name": "Welcome To Colab",
      "provenance": [],
      "include_colab_link": true
    },
    "kernelspec": {
      "display_name": "Python 3",
      "name": "python3"
    }
  },
  "nbformat": 4,
  "nbformat_minor": 0
}